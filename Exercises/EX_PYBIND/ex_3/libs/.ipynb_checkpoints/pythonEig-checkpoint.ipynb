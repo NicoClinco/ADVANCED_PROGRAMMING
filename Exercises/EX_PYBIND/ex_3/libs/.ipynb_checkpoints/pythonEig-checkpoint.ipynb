{
 "cells": [
  {
   "cell_type": "code",
   "execution_count": 1,
   "id": "d56d88f4-0182-4817-9683-12238b614ed9",
   "metadata": {},
   "outputs": [],
   "source": [
    "import pythonEig as pyEig\n",
    "import numpy as np\n",
    "import time\n",
    "# Decorator function:\n",
    "def log_execution_time(operation):\n",
    "    \n",
    "    def wrap(*args,**kwargs):\n",
    "        st = time.time();\n",
    "        res = operation(*args);\n",
    "        print(\"Execution-time for operation :\",time.time()-st);\n",
    "        return res;\n",
    "    return wrap;\n",
    "\n",
    "@log_execution_time\n",
    "def mult_op(a : np.ndarray, b : np.ndarray):\n",
    "    return pyEig.mat_mult(a,b);\n",
    "\n",
    "@log_execution_time\n",
    "def inv_op(a : np.ndarray):\n",
    "    return pyEig.mat_inv(a);\n"
   ]
  },
  {
   "cell_type": "code",
   "execution_count": 3,
   "id": "c83e82c3-df53-4eae-a4b3-63fbdee57a93",
   "metadata": {},
   "outputs": [
    {
     "name": "stdout",
     "output_type": "stream",
     "text": [
      "Execution-time for operation : 8.204757928848267\n",
      "Execution-time for operation : 11.52308440208435\n",
      "execution-time-multiplication : 1.023315668106079\n",
      "execution-time-inverse: 0.04069328308105469\n"
     ]
    }
   ],
   "source": [
    "\n",
    "m1 =  np.random.randint(low=0, high=100, size=(1000, 1000));\n",
    "m2 =  np.random.randint(low=0, high=100, size=(1000, 1000));\n",
    "\n",
    "m3 = mult_op(m1,m2);\n",
    "m4 = inv_op(m1);\n",
    "\n",
    "time_st = time.time();\n",
    "m_nump = np.matmul(m1,m2);\n",
    "print(\"execution-time-multiplication :\",time.time()-time_st);\n",
    "\n",
    "time_st = time.time();\n",
    "m_nump = np.linalg.inv(m1);\n",
    "print(\"execution-time-inverse:\",time.time()-time_st);\n",
    "\n",
    "#np_mult = log_execution_time(np.matmul)\n",
    "#np_inv = log_execution_time(np.linalg.inv)\n",
    "\n",
    "#print(\"Execution-time for numpy multiplication :\",np_mult(m1,m2));\n",
    "#print(\"Execution-time for numpy inverse :\",np_inv(m1));"
   ]
  },
  {
   "cell_type": "code",
   "execution_count": null,
   "id": "ac1a3ec2-0c82-4273-a993-cea907ac3515",
   "metadata": {},
   "outputs": [],
   "source": []
  }
 ],
 "metadata": {
  "kernelspec": {
   "display_name": "Python 3 (ipykernel)",
   "language": "python",
   "name": "python3"
  },
  "language_info": {
   "codemirror_mode": {
    "name": "ipython",
    "version": 3
   },
   "file_extension": ".py",
   "mimetype": "text/x-python",
   "name": "python",
   "nbconvert_exporter": "python",
   "pygments_lexer": "ipython3",
   "version": "3.10.9"
  }
 },
 "nbformat": 4,
 "nbformat_minor": 5
}
