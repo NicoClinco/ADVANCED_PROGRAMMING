{
 "cells": [
  {
   "cell_type": "code",
   "execution_count": 11,
   "id": "c4502a4a-6e8e-4b84-8eed-d97905b8291b",
   "metadata": {},
   "outputs": [
    {
     "name": "stdout",
     "output_type": "stream",
     "text": [
      "#################\n",
      "[ 0.  1.  2.  3.  4.  5. -5. -4. -3. -2. -1.]\n",
      "[-5. -4. -3. -2. -1.  0.  1.  2.  3.  4.  5.]\n",
      "[ 5. -5. -4. -3. -2. -1.  0.  1.  2.  3.  4.]\n",
      "################\n",
      "[ 0.00000000e+00  8.66025404e-01 -8.66025404e-01 -2.44929360e-16\n",
      "  8.66025404e-01 -8.66025404e-01 -4.89858720e-16  8.66025404e-01\n",
      " -8.66025404e-01 -7.34788079e-16]\n",
      "[-1.77635684e-16  8.66025404e-01 -8.66025404e-01 -2.22044605e-16\n",
      "  8.66025404e-01 -8.66025404e-01 -3.55271368e-16  8.66025404e-01\n",
      " -8.66025404e-01 -6.66133815e-16]\n",
      "[0 1 2 3 4 5 6 7 8]   [5 6 7 8 0 1 2 3 4]   [0 1 2 3 4 5 6 7 8]\n"
     ]
    }
   ],
   "source": [
    "import numpy as np\n",
    "\n",
    "\n",
    "freq1 = np.fft.fftfreq(11,1/11);\n",
    "\n",
    "Freq= np.arange(10);\n",
    "ux = np.sin(2*np.pi*Freq/3);\n",
    "\n",
    "uxk= np.fft.fftshift(np.fft.fft(ux));\n",
    "\n",
    "ux_ = np.fft.ifft(np.fft.fftshift(uxk));\n",
    "ux_ = np.real(ux_)\n",
    "freq2 = np.fft.fftshift(freq1)\n",
    "freq3 = np.fft.ifftshift(freq1);\n",
    "print(\"#################\")\n",
    "print(f\"{freq1}\");\n",
    "print(f\"{freq2}\");\n",
    "print(f\"{freq3}\");\n",
    "print(\"################\")\n",
    "print(ux);\n",
    "print(ux_);\n",
    "\n",
    "a  = np.arange(0,9);\n",
    "a_ = np.fft.fftshift(a)\n",
    "\n",
    "print(a,\" \",a_,\" \",_a)"
   ]
  },
  {
   "cell_type": "code",
   "execution_count": null,
   "id": "7e55a7cc-4474-4173-973e-7398a6d53a15",
   "metadata": {},
   "outputs": [],
   "source": []
  }
 ],
 "metadata": {
  "kernelspec": {
   "display_name": "Python 3 (ipykernel)",
   "language": "python",
   "name": "python3"
  },
  "language_info": {
   "codemirror_mode": {
    "name": "ipython",
    "version": 3
   },
   "file_extension": ".py",
   "mimetype": "text/x-python",
   "name": "python",
   "nbconvert_exporter": "python",
   "pygments_lexer": "ipython3",
   "version": "3.10.9"
  }
 },
 "nbformat": 4,
 "nbformat_minor": 5
}
