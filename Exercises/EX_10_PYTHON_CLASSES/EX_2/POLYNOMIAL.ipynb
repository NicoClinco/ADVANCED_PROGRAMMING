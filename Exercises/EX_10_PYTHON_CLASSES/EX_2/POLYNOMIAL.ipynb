{
 "cells": [
  {
   "cell_type": "code",
   "execution_count": null,
   "id": "9ac89204-231d-4c7b-8a27-d7ca376930db",
   "metadata": {},
   "outputs": [],
   "source": [
    "import numpy as np"
   ]
  },
  {
   "cell_type": "code",
   "execution_count": 1,
   "id": "e414cde1-8009-4de3-b711-daf9b8a55a87",
   "metadata": {},
   "outputs": [],
   "source": [
    "\n",
    "def add_evaluation_method_std(cls):\n",
    "    \n",
    "    def evaluate_(self,x):\n",
    "        px = 0.0;\n",
    "        for I,coef in enumerate(self.coefs):\n",
    "            px+=coef*(x**I);\n",
    "        return px;\n",
    "    \n",
    "    cls.evaluate_std = evaluate_;\n",
    "    return cls\n",
    "\n",
    "def add_evaluation_method_hor(cls):\n",
    "    \n",
    "    def evaluate_(self,x):\n",
    "        n=len(self.coefs)-1;\n",
    "        k=n;\n",
    "        bk = self.coefs[k];\n",
    "        while(True):\n",
    "            bkm = self.coefs[k-1] + bk*x;\n",
    "            bk = bkm;\n",
    "            k-=1;\n",
    "            if(k==0):\n",
    "                break\n",
    "        return bk     \n",
    "    cls.evaluate_horner = evaluate_;\n",
    "    return cls\n",
    "    \n",
    "@add_evaluation_method_hor\n",
    "@add_evaluation_method_std\n",
    "class Polynomial:\n",
    "    def __init__(self,*args):\n",
    "        self.coefs = [arg for arg in args];\n",
    "    \n",
    "    @classmethod\n",
    "    def from_string(cls,instr : str):\n",
    "        Coefs = instr.split(' + ');\n",
    "        coefs = [ int(coef.split('x')[0]) for coef in Coefs];\n",
    "        return cls(*coefs);\n",
    "    \n",
    "    def __repr__(self):\n",
    "        exponents = range(len(self.coefs));\n",
    "        string_rep = '';\n",
    "        for indx,coef in enumerate(self.coefs):\n",
    "            if(coef!=0):\n",
    "                symbol = '+' if (coef>0) else '-';\n",
    "                string_rep+=symbol\n",
    "                string_rep+=str(abs(coef))\n",
    "                if(indx!=0):\n",
    "                    string_rep+='x';\n",
    "                if(indx!=1 and indx!=0):\n",
    "                    string_rep+='^'+str(int(indx));\n",
    "                \n",
    "                \n",
    "        #string_rep = string_rep[:-1];          \n",
    "        return string_rep\n",
    "    \n",
    "    def __add__(self,pRHS):\n",
    "        IsGreater = True if len(pRHS.coefs) >= len(self.coefs) else False\n",
    "        if(IsGreater):\n",
    "            self.coefs = [pRHS.coefs[I]+self.coefs[I] for I in range(len(self.coefs))];\n",
    "            self.coefs+=(pRHS.coefs[len(self.coefs):])\n",
    "        else:\n",
    "            self.coefs = [pRHS.coefs[I]+self.coefs[I] for I in range(len(pRHS.coefs))];\n",
    "            self.coefs+=(self.coefs[len(pRHS.coefs):])\n",
    "        return(self)  \n",
    "    def __mul__():\n",
    "        pass\n",
    "\n",
    "    \n",
    "class StandardPolynomialEvaluator(Polynomial):\n",
    "    def __init__(self,*args):\n",
    "        Polynomial.__init__(args);\n",
    "    \n",
    "    def evaluate(self,x):\n",
    "        px = 0.0;\n",
    "        for I,coef in enumerate(self.coefs):\n",
    "            px+=coef*(x**I);\n",
    "        return px;"
   ]
  },
  {
   "cell_type": "code",
   "execution_count": 3,
   "id": "1d04b2d6-8bc2-4df7-b9b6-8e9039890e9c",
   "metadata": {},
   "outputs": [
    {
     "name": "stdout",
     "output_type": "stream",
     "text": [
      "-9.0\n",
      "-9.0\n"
     ]
    }
   ],
   "source": [
    "p2 = Polynomial(-3,1,-2);\n",
    "print(p2.evaluate_std(2.0))\n",
    "print(p2.evaluate_horner(2.0))\n",
    "p3 = Polynomial(1,2,3);\n"
   ]
  },
  {
   "cell_type": "code",
   "execution_count": null,
   "id": "db469d3e-926a-40a6-a0b0-60a129357b20",
   "metadata": {},
   "outputs": [],
   "source": [
    "Instring = '-3 + 1x + -2x^2';\n",
    "p4 = Polynomial.from_string(Instring)"
   ]
  },
  {
   "cell_type": "code",
   "execution_count": null,
   "id": "cd1bb533-be74-4278-a3c1-26bfccfe9d36",
   "metadata": {},
   "outputs": [],
   "source": []
  },
  {
   "cell_type": "code",
   "execution_count": null,
   "id": "05cb1b30-99da-4b04-9142-56d238cf727b",
   "metadata": {},
   "outputs": [],
   "source": []
  }
 ],
 "metadata": {
  "kernelspec": {
   "display_name": "Python 3 (ipykernel)",
   "language": "python",
   "name": "python3"
  },
  "language_info": {
   "codemirror_mode": {
    "name": "ipython",
    "version": 3
   },
   "file_extension": ".py",
   "mimetype": "text/x-python",
   "name": "python",
   "nbconvert_exporter": "python",
   "pygments_lexer": "ipython3",
   "version": "3.10.9"
  }
 },
 "nbformat": 4,
 "nbformat_minor": 5
}
