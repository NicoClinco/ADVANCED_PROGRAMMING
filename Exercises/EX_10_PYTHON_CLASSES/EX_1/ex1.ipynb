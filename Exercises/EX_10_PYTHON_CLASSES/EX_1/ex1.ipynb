{
 "cells": [
  {
   "cell_type": "code",
   "execution_count": 6,
   "id": "5bc67113-fdab-4f48-bbdf-780cb8b59f8d",
   "metadata": {
    "tags": []
   },
   "outputs": [],
   "source": [
    "import numpy as np\n",
    "\n",
    "def step_counter(ODE):\n",
    "    \n",
    "    def wrapper(u0,h):\n",
    "        counter = 0;\n",
    "        u=u0;\n",
    "        while True:\n",
    "            yield counter;\n",
    "            next(ODE(u0,h));\n",
    "            counter+=1;\n",
    "            print(counter)\n",
    "    return wrapper\n",
    "\n",
    "@step_counter\n",
    "def FWEuler(u0,h):\n",
    "    u=u0;\n",
    "    while True:\n",
    "        yield u;\n",
    "        u = u - h*np.sin(u);\n",
    "        \n",
    "    "
   ]
  },
  {
   "cell_type": "code",
   "execution_count": 7,
   "id": "c9c1efba-24a5-41ff-b122-fc813eeaea2e",
   "metadata": {
    "tags": []
   },
   "outputs": [
    {
     "name": "stdout",
     "output_type": "stream",
     "text": [
      "0\n"
     ]
    }
   ],
   "source": [
    "Iter = FWEuler(1.0,0.1)\n",
    "print(next(Iter))"
   ]
  },
  {
   "cell_type": "code",
   "execution_count": null,
   "id": "d1f8e5e2-f845-432a-b9ba-b8dcf869e616",
   "metadata": {},
   "outputs": [],
   "source": []
  }
 ],
 "metadata": {
  "kernelspec": {
   "display_name": "Python 3 (ipykernel)",
   "language": "python",
   "name": "python3"
  },
  "language_info": {
   "codemirror_mode": {
    "name": "ipython",
    "version": 3
   },
   "file_extension": ".py",
   "mimetype": "text/x-python",
   "name": "python",
   "nbconvert_exporter": "python",
   "pygments_lexer": "ipython3",
   "version": "3.10.13"
  }
 },
 "nbformat": 4,
 "nbformat_minor": 5
}
