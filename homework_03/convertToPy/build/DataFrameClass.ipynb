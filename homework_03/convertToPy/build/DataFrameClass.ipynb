{
 "cells": [
  {
   "cell_type": "code",
   "execution_count": null,
   "id": "3d4f68d8-7e73-415f-9c3a-595013d41974",
   "metadata": {},
   "outputs": [],
   "source": [
    "from dataFrameBind import pyDataFrame\n",
    "import pandas as pd"
   ]
  },
  {
   "cell_type": "code",
   "execution_count": null,
   "id": "aefc7da3-df0f-4783-a0d7-9626b1172c9d",
   "metadata": {
    "tags": []
   },
   "outputs": [],
   "source": [
    "\n",
    "class DataFrame(pyDataFrame):\n",
    "    \n",
    "    def __init__(self,filename):\n",
    "        pyDataFrame.__init__(self,filename);\n",
    "    \n",
    "    # Convert everything to a DataFrame:\n",
    "    def Read(self,has_header):\n",
    "        # Read using the base-class method\n",
    "        super().Read(has_header);\n",
    "        # Convert everything into a DataFrame (pandas)\n",
    "        self.data_ = pd.DataFrame();\n",
    "        if(has_header):\n",
    "            for indx,col in enumerate(self.headernames):\n",
    "                self.data_[col] = self.data[indx][:];\n",
    "        else:\n",
    "            for indx in range(len(self.data)):\n",
    "                self.data_['col'+':'+str(indx)] = self.data[indx][:];\n",
    "    def ConvertToType(self,column : str,type_ : str,format_=None):\n",
    "        \"\"\"\n",
    "        Try to convert a specified column to\n",
    "        a numeric or date:\n",
    "        @param: column: specific column to convert\n",
    "        @param: type_: Desired output: Numeric, Date\n",
    "        \"\"\"\n",
    "        try:\n",
    "            if(type_=='Numeric'):\n",
    "                self.data_[column]= pd.to_numeric(self.data_[column]);\n",
    "            if(type_=='Date'):\n",
    "                self.data_[column]= pd.to_datetime(self.data_[column],format='%d-%m-%y');\n",
    "        except:\n",
    "            print(f\"Unable to convert column {column} to the specified data-type, try again\");\n",
    "                "
   ]
  },
  {
   "cell_type": "code",
   "execution_count": null,
   "id": "0b70bc9f-3c81-46bb-a78d-e3db77d37806",
   "metadata": {},
   "outputs": [],
   "source": [
    "DF = DataFrame('input.txt');\n",
    "DF.Read(True)\n",
    "DF.ConvertToType('Date','Date',format_='%d-%m-%y')\n",
    "ps = pd.to_datetime(DF.data_['Date'],format='%d-%m-%y')"
   ]
  },
  {
   "cell_type": "code",
   "execution_count": null,
   "id": "e50294db-b7fa-4501-aceb-b4e1a46b73ad",
   "metadata": {},
   "outputs": [],
   "source": []
  }
 ],
 "metadata": {
  "kernelspec": {
   "display_name": "Python 3 (ipykernel)",
   "language": "python",
   "name": "python3"
  },
  "language_info": {
   "codemirror_mode": {
    "name": "ipython",
    "version": 3
   },
   "file_extension": ".py",
   "mimetype": "text/x-python",
   "name": "python",
   "nbconvert_exporter": "python",
   "pygments_lexer": "ipython3",
   "version": "3.10.9"
  }
 },
 "nbformat": 4,
 "nbformat_minor": 5
}
