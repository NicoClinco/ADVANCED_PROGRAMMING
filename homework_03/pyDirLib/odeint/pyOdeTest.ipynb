{
 "cells": [
  {
   "cell_type": "code",
   "execution_count": null,
   "id": "aa041116-1def-4d04-88a5-9e9b6cedefa0",
   "metadata": {},
   "outputs": [],
   "source": [
    "import odeBind as pyOde\n",
    "from scipy.integrate import solve_ivp"
   ]
  },
  {
   "cell_type": "code",
   "execution_count": null,
   "id": "ad12aa55-aad5-4982-8d5f-3889e9e368c9",
   "metadata": {},
   "outputs": [],
   "source": [
    "EulerFirstOrder = pyOde.pyTimeIntegratorDouble(\"test_double_euler.txt\",True);\n",
    "RK4Order = pyOde.pyTimeIntegratorRKdouble(\"test_double_rk4.txt\",True);\n",
    "def rhs(t : float, x : list):\n",
    "    return x;\n",
    "\n",
    "# Solving \\dot{x} = x: Scalar case:\n",
    "x0 = 0.5;\n",
    "t0 = 0.0;\n",
    "tf = 1.0;\n",
    "\n",
    "\n",
    "solution_finaleuler = EulerFirstOrder.solve(t0,tf,rhs,x0,100)\n",
    "solution_finalrk4 = RK4Order.solve(t0,tf,rhs,x0,100)\n",
    "\n",
    "def rhs_(t, y):\n",
    "    return [y[0]]\n",
    "\n",
    "y0 = [x0];\n",
    "t_span = [t0,tf];\n",
    "\n",
    "solution_true_final = solve_ivp(rhs_,t_span,y0);\n",
    "print(solution_true_final.y[0],solution_finaleuler,solution_finalrk4)"
   ]
  },
  {
   "cell_type": "code",
   "execution_count": null,
   "id": "2bd99ab9-46ea-4891-a38d-34e4eea08fe4",
   "metadata": {},
   "outputs": [],
   "source": [
    "EulerFirstOrder = pyOde.pyTimeIntegratorEulerEigen(\"test_vec_euler.txt\",True);\n",
    "RK4Order= pyOde.pyTimeIntegratorRKEigen(\"test_vec_rk4.txt\",True);\n",
    "\n",
    "def VecRhs(t : float, x : list):\n",
    "    return [x[0],x[1],x[2]];\n",
    "\n",
    "x0 = [0.5,0.5,0.5];\n",
    "t0= 0.0;\n",
    "tf= 1.0;\n",
    "\n",
    "solution_finaleuler = EulerFirstOrder.solve(t0,tf,VecRhs,x0,100);\n",
    "solution_finalrk4 = RK4Order.solve(t0,tf,VecRhs,x0,100);\n",
    "\n",
    "print(\"Solution at the final step: rk, euler: \", solution_finalrk4, solution_finaleuler)\n",
    "\n"
   ]
  },
  {
   "cell_type": "code",
   "execution_count": null,
   "id": "c13000fc-b0fc-444d-8530-88cdad18fcde",
   "metadata": {},
   "outputs": [],
   "source": []
  }
 ],
 "metadata": {
  "kernelspec": {
   "display_name": "Python 3 (ipykernel)",
   "language": "python",
   "name": "python3"
  },
  "language_info": {
   "codemirror_mode": {
    "name": "ipython",
    "version": 3
   },
   "file_extension": ".py",
   "mimetype": "text/x-python",
   "name": "python",
   "nbconvert_exporter": "python",
   "pygments_lexer": "ipython3",
   "version": "3.10.9"
  }
 },
 "nbformat": 4,
 "nbformat_minor": 5
}
