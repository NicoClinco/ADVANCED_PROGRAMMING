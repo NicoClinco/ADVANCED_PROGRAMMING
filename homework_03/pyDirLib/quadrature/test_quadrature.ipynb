{
 "cells": [
  {
   "cell_type": "code",
   "execution_count": null,
   "id": "7de26e3b-f92e-4913-9405-bf3450814ad3",
   "metadata": {},
   "outputs": [],
   "source": [
    "from quadrature import *"
   ]
  },
  {
   "cell_type": "markdown",
   "id": "cadf07fc-1c8d-4cc7-a53c-f4394e9e8ae4",
   "metadata": {},
   "source": [
    "<h1>\n",
    "    Examples of the usage of the numerical integration class:\n",
    "</h1>"
   ]
  },
  {
   "cell_type": "code",
   "execution_count": null,
   "id": "0c5727ec-9b6d-49f5-b38b-91e43e4e4f49",
   "metadata": {},
   "outputs": [],
   "source": [
    "# Test the basic usage of the specialized class:\n",
    "to_integrate = lambda x: x*x*x*x;\n",
    "x_start = 0.0;\n",
    "x_end = 2.0;\n",
    "analytical_res = 6.40;\n",
    "\n",
    "N = 3;\n",
    "\n",
    "#Simpson\n",
    "integrator = pyQuadrature(\"Simpson\");\n",
    "res0 = integrator(to_integrate,x_start,x_end,N);\n",
    "\n",
    "#Change the type of quadrature formula:\n",
    "integrator.ChooseIntegratorType(\"Trapezoidal\");\n",
    "res1 = integrator(to_integrate,x_start,x_end,N);\n",
    "\n",
    "integrator.ChooseIntegratorType(\"GaussLegeandre\");\n",
    "res2 = integrator(to_integrate,x_start,x_end,N);\n",
    "\n",
    "print(f\"Simpson results : {res0}\");\n",
    "print(f\"Trapezoidal results : {res1}\");\n",
    "print(f\"Gauss-Legeandre results : {res2}\");\n",
    "print(f\"Analytical result : {analytical_res}\");"
   ]
  },
  {
   "cell_type": "markdown",
   "id": "9038c709-4f46-416e-bcb8-c6d3d842ff45",
   "metadata": {},
   "source": [
    "<h3>\n",
    "    Plot the time employed and the order of convergence of various quadrature formulas:\n",
    "    </h3>"
   ]
  },
  {
   "cell_type": "code",
   "execution_count": null,
   "id": "ca1cf0c2-e718-411a-a2a1-962e5da1b583",
   "metadata": {},
   "outputs": [],
   "source": [
    "# Plot the order of convergence for various quadrature formulas:\n",
    "N_points = [10,40,80,120,240,360,720];\n",
    "history = EvalQuadFormulas(to_integrate,[\"Simpson\",\"Trapezoidal\",\"MidPoint\",\"GaussLegeandre\"],\n",
    "                           x_start,x_end,N_points,analytical_res);\n",
    "\n",
    "history.plotResults();\n",
    "history.plotTimes();"
   ]
  },
  {
   "cell_type": "code",
   "execution_count": null,
   "id": "ae013b56-6939-45f2-ae85-4654002fe9db",
   "metadata": {},
   "outputs": [],
   "source": []
  }
 ],
 "metadata": {
  "kernelspec": {
   "display_name": "Python 3 (ipykernel)",
   "language": "python",
   "name": "python3"
  },
  "language_info": {
   "codemirror_mode": {
    "name": "ipython",
    "version": 3
   },
   "file_extension": ".py",
   "mimetype": "text/x-python",
   "name": "python",
   "nbconvert_exporter": "python",
   "pygments_lexer": "ipython3",
   "version": "3.10.9"
  }
 },
 "nbformat": 4,
 "nbformat_minor": 5
}
