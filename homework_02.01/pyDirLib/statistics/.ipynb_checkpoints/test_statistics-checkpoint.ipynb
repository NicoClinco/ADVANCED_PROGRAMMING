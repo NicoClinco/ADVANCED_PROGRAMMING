{
 "cells": [
  {
   "cell_type": "code",
   "execution_count": 1,
   "id": "a354c316-ff0d-4914-88ca-acaa20b8f317",
   "metadata": {
    "tags": []
   },
   "outputs": [],
   "source": [
    "from dataframe import *"
   ]
  },
  {
   "cell_type": "code",
   "execution_count": null,
   "id": "b7b70a3b-bfe3-4ee2-9cef-7f2f8287e9a9",
   "metadata": {
    "jupyter": {
     "source_hidden": true
    },
    "tags": []
   },
   "outputs": [],
   "source": [
    "# A class that inherits from the base class:\n",
    "# It is specialized:\n",
    "class pyDataFrame(dfb.pyDF):\n",
    "    \"\"\"\n",
    "    A specialized class that inherits from pyDF:\n",
    "    The datastructure is converted from a python list\n",
    "    to a dataframe (pandas) for enhancing flexibility.\n",
    "    \"\"\"\n",
    "    def __init__(self,config_file : str):\n",
    "        dfb.pyDF.__init__(self,config_file);\n",
    "\n",
    "    def read(self,filename :str, has_header : True):\n",
    "        \"\"\"\n",
    "        Method for reading a csv file\n",
    "\n",
    "        :param (str) filename: The name of the filename to read\n",
    "        :param (bool) has_header: Flag for skipping first row\n",
    "        :return: nothing\n",
    "        \"\"\"\n",
    "        dfb.pyDF.read(self,filename,has_header);\n",
    "        #Convert to a pandas dataframe for speed:\n",
    "        self.data = pd.DataFrame(self.data());\n",
    "        \n",
    "        #Renaming the columns\n",
    "        self.data.columns=[\"date\",\"cloud_cover\",\"sunshine\",\"global_radiation\",\"max_temp\",\"mean_temp\",\n",
    "                           \"min_temp\",\"precipitation\",\"pressure\",\"snow_depth\"];\n",
    "        \n",
    "    def convertToDate(self,column = \"date\",format_='%Y%m%d'):\n",
    "        \"\"\"\n",
    "        Method for converting a column to a time-series.\n",
    "\n",
    "        :param  (str) column : The column which is transformed to a date\n",
    "        :param  (str) format: Format of the time-series\n",
    "        \"\"\"\n",
    "        self.data[column] = pd.to_datetime(self.data[column],format=format_);\n",
    "        self.data.set_index('date');\n",
    "        \n",
    "    def Year_statistics(self,column=\"mean_temp\"):\n",
    "        \"\"\"\n",
    "        Method for statistics in the whole years\n",
    "\n",
    "        :param (str) column: The column we want to do statistics\n",
    "        \"\"\"\n",
    "        self.data.groupby(self.data[\"date\"].dt.year)[column].mean().plot(\n",
    "            kind='bar');\n",
    "     \n",
    "        plt.xlabel(\"Years\");\n",
    "        plt.ylabel(column + \" over the year\");\n",
    "        plt.show();\n",
    "\n",
    "    \n",
    "    \n",
    "    def Month_statistics(self,column=\"mean_temp\",year=\"2010\"):\n",
    "        \"\"\"\n",
    "        Method for statistics in a specific year\n",
    "\n",
    "        :param (str) column: The column we want to do statistics\n",
    "        :param (str) year:   The year for which we make statistics\n",
    "        \"\"\"\n",
    "        mask = self.data['date'].dt.year == int(year);\n",
    "        year_data = self.data[mask];\n",
    "        \n",
    "        self.data.groupby(year_data[\"date\"].dt.month)[column].mean().plot(\n",
    "            kind='bar');\n",
    "        plt.xticks(ticks=range(0,12),labels=[\"Jan\",\"Feb\",\"Mar\",\"Apr\",\"May\",\"Jun\",\"Jul\",\"Aug\",\"Sep\",\"Oct\",\"Nov\",\"Dec\"]);\n",
    "        plt.xlabel(\"months\");\n",
    "        plt.ylabel(column + \" for the year \"+str(year));\n",
    "        plt.show();"
   ]
  },
  {
   "cell_type": "code",
   "execution_count": null,
   "id": "e4ff0029-87f2-4dd9-b5e4-b54ce27fe444",
   "metadata": {
    "tags": []
   },
   "outputs": [],
   "source": [
    "# Creating the object: reading the configuration file:\n",
    "df=pyDataFrame(\"configCSV.txt\");\n",
    "# Specify the csv file:\n",
    "df.read(\"London_weather.csv\",True);\n",
    "\n",
    "\n",
    "# Convert to date a specific column (default first)\n",
    "df.convertToDate();\n",
    "\n",
    "# Perform statistics in a whole year:\n",
    "df.Year_statistics(column=\"max_temp\");\n",
    "df.Month_statistics(column=\"mean_temp\",year=\"2005\");"
   ]
  },
  {
   "cell_type": "code",
   "execution_count": 3,
   "id": "a7197912-bead-4a5d-af90-69edaad86684",
   "metadata": {},
   "outputs": [
    {
     "data": {
      "text/plain": [
       "'19790101'"
      ]
     },
     "execution_count": 3,
     "metadata": {},
     "output_type": "execute_result"
    }
   ],
   "source": [
    "df_old = dfb.pyDF(\"configCSV.txt\");\n",
    "df_old.read(\"London_weather.csv\",True);\n",
    "\n",
    "#int_list = df_old.data();"
   ]
  },
  {
   "cell_type": "code",
   "execution_count": null,
   "id": "55488237-c9bd-4ede-91e0-cf914ed89695",
   "metadata": {},
   "outputs": [],
   "source": [
    "rowIterator = df_old.rowIterbegin()\n",
    "\n",
    "while(rowIterator != df_old.rowIterEnd()):\n",
    "    currentRow = rowIterator.getEntry();\n",
    "    next(rowIterator) "
   ]
  },
  {
   "cell_type": "code",
   "execution_count": null,
   "id": "617166e7-9206-42b2-81bf-a30d75f49f65",
   "metadata": {},
   "outputs": [],
   "source": [
    "df_old.header_names()\n",
    "\n",
    "for header in df_old.header_names():\n",
    "    print(header)"
   ]
  },
  {
   "cell_type": "code",
   "execution_count": null,
   "id": "200d3865-d48f-4125-ae21-8c8bbd20f304",
   "metadata": {},
   "outputs": [],
   "source": []
  }
 ],
 "metadata": {
  "kernelspec": {
   "display_name": "Python 3 (ipykernel)",
   "language": "python",
   "name": "python3"
  },
  "language_info": {
   "codemirror_mode": {
    "name": "ipython",
    "version": 3
   },
   "file_extension": ".py",
   "mimetype": "text/x-python",
   "name": "python",
   "nbconvert_exporter": "python",
   "pygments_lexer": "ipython3",
   "version": "3.10.9"
  }
 },
 "nbformat": 4,
 "nbformat_minor": 5
}
