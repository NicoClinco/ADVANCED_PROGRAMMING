{
 "cells": [
  {
   "cell_type": "code",
   "execution_count": null,
   "id": "a354c316-ff0d-4914-88ca-acaa20b8f317",
   "metadata": {
    "tags": []
   },
   "outputs": [],
   "source": [
    "from dataframe import *"
   ]
  },
  {
   "cell_type": "markdown",
   "id": "f093e107-3b45-48ef-aa83-56de8d9631f0",
   "metadata": {},
   "source": [
    "<h1> <strong> Example of usage of the statistic module </strong>\n",
    "</h1>\n",
    "Please. follow this notebook for various usage:"
   ]
  },
  {
   "cell_type": "markdown",
   "id": "378c2b1b-f2b4-4738-84cb-0b63d2a5c6b0",
   "metadata": {
    "tags": []
   },
   "source": [
    "<h3> The following jupyter cell contain an example of initialization of the class \"pyDataFrame\"  \n",
    "\n",
    "   The default constructor is used in this case   \n",
    "   It contains examples for the mean of variables in a certain period of time\n",
    "</h3>"
   ]
  },
  {
   "cell_type": "code",
   "execution_count": null,
   "id": "e4ff0029-87f2-4dd9-b5e4-b54ce27fe444",
   "metadata": {
    "tags": []
   },
   "outputs": [],
   "source": [
    "# Creating the object: reading the configuration file:\n",
    "df=pyDataFrame(\"configCSV.txt\");\n",
    "# Specify the csv file:\n",
    "df.read(\"London_weather.csv\",True);\n",
    "\n",
    "print(f\"Your dataframe contains {len(df)} rows\\n\");\n",
    "# Convert to date a specific column (default first)\n",
    "df.convertToDate();\n",
    "\n",
    "# Perform statistics for all the years:\n",
    "df.Year_statistics(column=\"max_temp\");\n",
    "# Perform statistics for a specific year:\n",
    "df.Month_statistics(column=\"mean_temp\",year=\"2005\");"
   ]
  },
  {
   "cell_type": "markdown",
   "id": "2ff7faf0-e797-4c39-a2c8-1e39c7165d03",
   "metadata": {},
   "source": [
    "<h3> Alternatively, the user can use the classmethod as initialization as follows:\n",
    "    \n",
    "</h3>\n"
   ]
  },
  {
   "cell_type": "code",
   "execution_count": null,
   "id": "3ddfbb66-1dc3-4c90-8878-3b2a7abd620a",
   "metadata": {
    "tags": []
   },
   "outputs": [],
   "source": [
    "df_I = pyDataFrame.constructFromFile(\"configCSV.txt\",\"London_weather.csv\",True);\n",
    "df_I.convertToDate();\n",
    "data = df_I.data_\n",
    "\n",
    "VectorOpVar = df_I.data[0]"
   ]
  },
  {
   "cell_type": "code",
   "execution_count": null,
   "id": "3250c9df-161e-41b7-b7f9-e4e4e773b601",
   "metadata": {
    "tags": []
   },
   "outputs": [],
   "source": [
    "entry = VectorOpVar.pop_back()\n",
    "print(len(VectorOpVar))"
   ]
  },
  {
   "cell_type": "code",
   "execution_count": null,
   "id": "b8c47379-948e-4b4c-aad0-31bb5900fda7",
   "metadata": {},
   "outputs": [],
   "source": [
    "########TO ASK#########\n",
    "#df_II= pyDataFrame.constructFromFile_(\"London_weather.csv\",True);\n",
    "#df_II.convertToDate();"
   ]
  },
  {
   "cell_type": "code",
   "execution_count": null,
   "id": "3b962e86-ea82-4ab9-b114-6a86a6a4b0e4",
   "metadata": {
    "tags": []
   },
   "outputs": [],
   "source": [
    "#df_ORG = dfb.pyDF(\"London_weather.csv\",True)"
   ]
  },
  {
   "cell_type": "markdown",
   "id": "03409bd6-03e2-4aec-b5f8-e38ec0798f41",
   "metadata": {},
   "source": [
    "<h3> Example of usage of  the (native) iterators by rows and by columns\n",
    "</h3>"
   ]
  },
  {
   "cell_type": "code",
   "execution_count": null,
   "id": "b7fb645f-64ae-483c-9185-fa0396c996ef",
   "metadata": {},
   "outputs": [],
   "source": [
    "# Examples of the iterators created in pybind:\n",
    "# Testing the iterators:\n",
    "\n",
    "# Iterator:\n",
    "rowIterator = df.rowIterbegin();\n",
    "finalIterator = df.rowIterEnd()\n",
    "while(rowIterator != df.rowIterEnd()-15320):\n",
    "    colIterator = df.colIterbegin(rowIterator,0);\n",
    "    currentRow = [];\n",
    "    while(colIterator != df.colIterEnd(rowIterator,3)):\n",
    "        currentRow.append(colIterator.getEntry());\n",
    "        next(colIterator)\n",
    "    print(f\"current row: {currentRow}\");\n",
    "    next(rowIterator)\n",
    "\n"
   ]
  },
  {
   "cell_type": "markdown",
   "id": "8d65877f-4410-4c0f-94c4-ce4e5ec3bc4b",
   "metadata": {
    "tags": []
   },
   "source": [
    "<h3> Test the linear regression implemented in the dataframe and the linear regression of sklearn: \n",
    "</h3>\n",
    " Below, you can find a snippet of code that compares the result of the scikit implementation for the linear regression\n",
    " and my Linear regression (single column native implementation)"
   ]
  },
  {
   "cell_type": "code",
   "execution_count": null,
   "id": "59948725-073b-4ccd-9a9d-e66edc95e7ce",
   "metadata": {},
   "outputs": [],
   "source": [
    "Linear_model = LinearRegression();\n",
    "\n",
    "X, y = df.data['global_radiation'].values.reshape(-1,1), df.data['mean_temp'].values.reshape(-1,1);\n",
    "\n",
    "# Skip the missing values:\n",
    "imputer = SimpleImputer(missing_values=np.nan, strategy='mean');\n",
    "imputer = imputer.fit(X);\n",
    "X_imputed = imputer.transform(X);\n",
    "\n",
    "imputerY = SimpleImputer(missing_values=np.nan, strategy='mean');\n",
    "imputerY = imputerY.fit(y);\n",
    "Y_imputed = imputerY.transform(y);\n",
    "\n",
    "res = Linear_model.fit(X_imputed, Y_imputed);\n",
    "\n",
    "y_pred = Linear_model.predict(X_imputed);\n",
    "figure,ax = plt.subplots(1,1,figsize=(5,5));\n",
    "ax.scatter(X,y,marker='x');\n",
    "ax.plot(X_imputed,y_pred,color='r',linewidth=4,label='Scikit implementation');\n",
    "\n",
    "\n",
    "#Linear regression in C++:\n",
    "w,I = df.LinRegDD(4,6);\n",
    "myPrediction = w*X_imputed+I;\n",
    "\n",
    "ax.plot(X_imputed,myPrediction,color='g',linewidth=3,label='Native implementation');\n",
    "ax.set_xlabel('Mean-temperature');\n",
    "ax.set_ylabel('Global radiation');\n",
    "ax.legend();\n",
    "plt.show();"
   ]
  },
  {
   "cell_type": "markdown",
   "id": "b46b4007-f9d2-431d-9aea-57b6ebeeed3f",
   "metadata": {},
   "source": [
    "<h3> Multiple linear regression usage example:\n",
    "</h3>\n",
    "\n",
    "The following cell shows how to perform multiple linear regression of the type   \n",
    "$$ y = w_1 x_1 + w_2 x_2 + I $$ \n",
    "with $x_1$ the mean temperature, $x_2$ the max temperature and $y$ is the global radiation"
   ]
  },
  {
   "cell_type": "code",
   "execution_count": null,
   "id": "7ddb7508-27a6-45ef-83b6-be317fdc8280",
   "metadata": {},
   "outputs": [],
   "source": [
    "# The function takes as arguments a list for the x-values and a string for the y values:\n",
    "coef = df.LinearRegression([\"mean_temp\",\"max_temp\"],\"global_radiation\")\n",
    "# It returns the slopes and the Intercept:\n",
    "coef"
   ]
  },
  {
   "cell_type": "markdown",
   "id": "97d35572-0721-48a1-b363-ea6cfb297b54",
   "metadata": {},
   "source": [
    "<h3> Example usage of writing the operation in a file specified by the user:\n",
    "</h3>\n",
    "The various operations after the function \"df.write()\" are redirected to the output file"
   ]
  },
  {
   "cell_type": "code",
   "execution_count": null,
   "id": "6a03c37a-baab-45d3-bb11-87553debe86d",
   "metadata": {
    "tags": []
   },
   "outputs": [],
   "source": [
    "df.SetOutputFile(\"outputfile.txt\");\n",
    "\n",
    "\n",
    "df.write(separator=\" \");\n",
    "#As previously, various operations\n",
    "#in C++ are redirected in the \"output_file.txt\"\n",
    "df.mean(\"mean_temp\");\n",
    "df.stdDev(\"mean_temp\");\n",
    "\n",
    "#write a numpy vector in the file:\n",
    "vec = [0.5,0.3,0.2,0.1];\n",
    "vec = np.array(vec);\n",
    "df.writeEntry(\"vectorFloat\",vec);\n",
    "\n",
    "df.closeOutput();"
   ]
  },
  {
   "cell_type": "markdown",
   "id": "bc6ba09b-90f7-4ef8-bb90-8f3a4895d031",
   "metadata": {},
   "source": [
    "<h3> Example usage of the class \"pyCSVwriter\".\n",
    "</h3>"
   ]
  },
  {
   "cell_type": "code",
   "execution_count": null,
   "id": "c2b91775-3693-4bde-8130-8f7dfa42d3dd",
   "metadata": {},
   "outputs": [],
   "source": [
    "writer = dfb.pyCSVwriter(\"output_file.txt\",\",\");\n",
    "writer.write();\n",
    "#With the function \"writeToFile\" the user can redirect the ouput in the file:\n",
    "writer.writeToFile(35);\n",
    "writer.endrow();\n",
    "#Native array:\n",
    "writer.writeToFile([0.5,0.2,0.3]);\n",
    "writer.endrow();\n",
    "#Numpy array:\n",
    "writer.writeToFile(np.array([0.5,0.2,0.3]));\n",
    "writer.close();"
   ]
  },
  {
   "cell_type": "code",
   "execution_count": null,
   "id": "679cb395-d7be-42f6-9c02-7cde2ae308dc",
   "metadata": {},
   "outputs": [],
   "source": []
  }
 ],
 "metadata": {
  "kernelspec": {
   "display_name": "Python 3 (ipykernel)",
   "language": "python",
   "name": "python3"
  },
  "language_info": {
   "codemirror_mode": {
    "name": "ipython",
    "version": 3
   },
   "file_extension": ".py",
   "mimetype": "text/x-python",
   "name": "python",
   "nbconvert_exporter": "python",
   "pygments_lexer": "ipython3",
   "version": "3.10.13"
  }
 },
 "nbformat": 4,
 "nbformat_minor": 5
}
